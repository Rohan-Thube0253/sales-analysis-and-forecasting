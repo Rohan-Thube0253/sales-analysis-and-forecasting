{
 "cells": [
  {
   "cell_type": "markdown",
   "id": "9c9ace24",
   "metadata": {},
   "source": [
    "# 00_quick_start\n",
    "\n",
    "This quick-start notebook loads the sample sales dataset, shows a simple monthly sales plot, and demonstrates a minimal Prophet forecasting example (if `prophet` is installed). Use this notebook to verify the project runs locally."
   ]
  },
  {
   "cell_type": "code",
   "execution_count": null,
   "id": "a09bcf14",
   "metadata": {},
   "outputs": [],
   "source": [
    "# 1. Imports\n",
    "import os\n",
    "import pandas as pd\n",
    "import matplotlib.pyplot as plt\n",
    "\n",
    "# Create outputs directory in case it does not exist\n",
    "os.makedirs('outputs', exist_ok=True)\n",
    "\n",
    "print('Libraries imported successfully')"
   ]
  },
  {
   "cell_type": "code",
   "execution_count": null,
   "id": "6cd84612",
   "metadata": {},
   "outputs": [],
   "source": [
    "# 2. Load sample data\n",
    "# The sample CSV is expected at: data/sample_sales_data.csv\n",
    "try:\n",
    "    df = pd.read_csv('data/sample_sales_data.csv')\n",
    "    print('Loaded sample dataset — rows:', len(df))\n",
    "    display(df.head())\n",
    "except FileNotFoundError:\n",
    "    print('Sample dataset not found. Make sure the file exists at', 'data/sample_sales_data.csv')"
   ]
  },
  {
   "cell_type": "code",
   "execution_count": null,
   "id": "f2cd11f7",
   "metadata": {},
   "outputs": [],
   "source": [
    "# 3. Preprocess and aggregate monthly sales\n",
    "# Convert Order Date to datetime and aggregate sales by month\n",
    "if 'Order Date' in df.columns:\n",
    "    df['Order Date'] = pd.to_datetime(df['Order Date'], errors='coerce')\n",
    "    df['YearMonth'] = df['Order Date'].dt.to_period('M').astype(str)\n",
    "    monthly = df.groupby('YearMonth', as_index=False)['Sales'].sum()\n",
    "    monthly['YearMonth'] = pd.to_datetime(monthly['YearMonth'])\n",
    "    display(monthly.head())\n",
    "else:\n",
    "    print('Order Date column not present in the dataframe')"
   ]
  },
  {
   "cell_type": "code",
   "execution_count": null,
   "id": "07ad7520",
   "metadata": {},
   "outputs": [],
   "source": [
    "# 4. Plot monthly sales (saved to outputs/monthly_sales.png)\n",
    "plt.figure(figsize=(10,5))\n",
    "plt.plot(monthly['YearMonth'], monthly['Sales'])\n",
    "plt.title('Monthly Sales')\n",
    "plt.xlabel('Month')\n",
    "plt.ylabel('Sales')\n",
    "plt.tight_layout()\n",
    "plt.grid(False)\n",
    "plt.savefig('outputs/monthly_sales.png')\n",
    "plt.show()\n",
    "print('Saved plot to outputs/monthly_sales.png')"
   ]
  },
  {
   "cell_type": "markdown",
   "id": "72a103d6",
   "metadata": {},
   "source": [
    "## Minimal Prophet forecast (optional)\n",
    "This cell will run only if `prophet` is installed in the environment. If not installed, the cell prints instructions to install it. The example forecasts 3 future months based on the sample data."
   ]
  },
  {
   "cell_type": "code",
   "execution_count": null,
   "id": "0084ad74",
   "metadata": {},
   "outputs": [],
   "source": [
    "# 5. Prophet forecasting (optional)\n",
    "try:\n",
    "    from prophet import Prophet\n",
    "    # Prepare data for Prophet\n",
    "    df_prophet = df[['Order Date', 'Sales']].dropna()\n",
    "    df_prophet = df_prophet.groupby(pd.Grouper(key='Order Date', freq='D')).sum().reset_index()\n",
    "    df_prophet = df_prophet.rename(columns={'Order Date':'ds', 'Sales':'y'})\n",
    "\n",
    "    # Fit a minimal Prophet model (daily data)\n",
    "    m = Prophet()\n",
    "    m.fit(df_prophet)\n",
    "\n",
    "    future = m.make_future_dataframe(periods=90)  # forecast 90 days (~3 months)\n",
    "    forecast = m.predict(future)\n",
    "\n",
    "    fig = m.plot(forecast)\n",
    "    fig.savefig('outputs/prophet_forecast.png')\n",
    "    print('Prophet forecast created and saved to outputs/prophet_forecast.png')\n",
    "except Exception as e:\n",
    "    print('Prophet not available or an error occurred. To install Prophet, run:')\n",
    "    print('pip install prophet')\n",
    "    print('\\nFull error:\\n', e)"
   ]
  }
 ],
 "metadata": {},
 "nbformat": 4,
 "nbformat_minor": 5
}
